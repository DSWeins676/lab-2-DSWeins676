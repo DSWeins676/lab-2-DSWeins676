{
  "nbformat": 4,
  "nbformat_minor": 0,
  "metadata": {
    "colab": {
      "provenance": []
    },
    "kernelspec": {
      "name": "python3",
      "display_name": "Python 3"
    },
    "language_info": {
      "name": "python"
    }
  },
  "cells": [
    {
      "cell_type": "markdown",
      "source": [
        "#**Lab 2: Inferential Statistics in Python**\n",
        "# RPAD 676: Data Science for the Public Good\n",
        "\n",
        "## Author: Daniel Weinstein\n",
        "## Date: 02/13/2025"
      ],
      "metadata": {
        "id": "HuqjNuoEddZe"
      }
    },
    {
      "cell_type": "code",
      "source": [
        "# load libraries\n",
        "import numpy as np\n",
        "import pandas as pd\n",
        "import scipy.stats as stats\n",
        "import matplotlib.pyplot as plt\n",
        "import seaborn as sns\n",
        "from sklearn.linear_model import LinearRegression"
      ],
      "metadata": {
        "id": "HCnvgwjidb69"
      },
      "execution_count": null,
      "outputs": []
    },
    {
      "cell_type": "code",
      "source": [
        "# load dataset\n",
        "\n",
        "# Load the CSV file\n",
        "data = pd.read_csv('digital_services_data.csv')"
      ],
      "metadata": {
        "id": "9tzRGDAmdgcy"
      },
      "execution_count": null,
      "outputs": []
    },
    {
      "cell_type": "code",
      "source": [
        "# Display the first few rows of the dataframe\n",
        "data.head(5)"
      ],
      "metadata": {
        "id": "4jnu11dEdjtB",
        "colab": {
          "base_uri": "https://localhost:8080/",
          "height": 417
        },
        "outputId": "445e12d2-14cd-4da9-939c-163900bd62e4"
      },
      "execution_count": null,
      "outputs": [
        {
          "output_type": "execute_result",
          "data": {
            "text/plain": [
              "   user_id  TimeTaken  UserSatisfaction  Age  DisabilityStatus  \\\n",
              "0        2        919                 4   38                 0   \n",
              "1        9        759                10   78                 0   \n",
              "2       13        853                 8   45                 0   \n",
              "3       15        503                 4   66                 0   \n",
              "4       25        857                 7   69                 0   \n",
              "\n",
              "   DigitalLiteracy  Gender EmploymentStatus EducationLevel InternetAccess  \\\n",
              "0                5  Female          Retired   Some College      Broadband   \n",
              "1                5    Male         Employed    High School      Broadband   \n",
              "2                3  Female       Unemployed       Bachelor      Broadband   \n",
              "3                3    Male          Student       Bachelor      Broadband   \n",
              "4                1  Female         Employed   Some College    Mobile Data   \n",
              "\n",
              "   ErrorRates  RequestedHelp  SatisfactionOtherServices  WillingnessFutureUse  \\\n",
              "0           1              0                          6                    10   \n",
              "1           1              0                          3                     8   \n",
              "2           2              0                          6                    10   \n",
              "3           1              0                          2                     1   \n",
              "4           4              0                          3                     1   \n",
              "\n",
              "   ReceivesSocialServices                                   Agency  \n",
              "0                       0  Department of Health and Human Services  \n",
              "1                       0              Department of Public Safety  \n",
              "2                       0                  Department of Education  \n",
              "3                       0              Department of Public Safety  \n",
              "4                       0                  Department of Education  "
            ],
            "text/html": [
              "\n",
              "  <div id=\"df-c571e7eb-709c-4a7c-a50d-63fa59b2025b\" class=\"colab-df-container\">\n",
              "    <div>\n",
              "<style scoped>\n",
              "    .dataframe tbody tr th:only-of-type {\n",
              "        vertical-align: middle;\n",
              "    }\n",
              "\n",
              "    .dataframe tbody tr th {\n",
              "        vertical-align: top;\n",
              "    }\n",
              "\n",
              "    .dataframe thead th {\n",
              "        text-align: right;\n",
              "    }\n",
              "</style>\n",
              "<table border=\"1\" class=\"dataframe\">\n",
              "  <thead>\n",
              "    <tr style=\"text-align: right;\">\n",
              "      <th></th>\n",
              "      <th>user_id</th>\n",
              "      <th>TimeTaken</th>\n",
              "      <th>UserSatisfaction</th>\n",
              "      <th>Age</th>\n",
              "      <th>DisabilityStatus</th>\n",
              "      <th>DigitalLiteracy</th>\n",
              "      <th>Gender</th>\n",
              "      <th>EmploymentStatus</th>\n",
              "      <th>EducationLevel</th>\n",
              "      <th>InternetAccess</th>\n",
              "      <th>ErrorRates</th>\n",
              "      <th>RequestedHelp</th>\n",
              "      <th>SatisfactionOtherServices</th>\n",
              "      <th>WillingnessFutureUse</th>\n",
              "      <th>ReceivesSocialServices</th>\n",
              "      <th>Agency</th>\n",
              "    </tr>\n",
              "  </thead>\n",
              "  <tbody>\n",
              "    <tr>\n",
              "      <th>0</th>\n",
              "      <td>2</td>\n",
              "      <td>919</td>\n",
              "      <td>4</td>\n",
              "      <td>38</td>\n",
              "      <td>0</td>\n",
              "      <td>5</td>\n",
              "      <td>Female</td>\n",
              "      <td>Retired</td>\n",
              "      <td>Some College</td>\n",
              "      <td>Broadband</td>\n",
              "      <td>1</td>\n",
              "      <td>0</td>\n",
              "      <td>6</td>\n",
              "      <td>10</td>\n",
              "      <td>0</td>\n",
              "      <td>Department of Health and Human Services</td>\n",
              "    </tr>\n",
              "    <tr>\n",
              "      <th>1</th>\n",
              "      <td>9</td>\n",
              "      <td>759</td>\n",
              "      <td>10</td>\n",
              "      <td>78</td>\n",
              "      <td>0</td>\n",
              "      <td>5</td>\n",
              "      <td>Male</td>\n",
              "      <td>Employed</td>\n",
              "      <td>High School</td>\n",
              "      <td>Broadband</td>\n",
              "      <td>1</td>\n",
              "      <td>0</td>\n",
              "      <td>3</td>\n",
              "      <td>8</td>\n",
              "      <td>0</td>\n",
              "      <td>Department of Public Safety</td>\n",
              "    </tr>\n",
              "    <tr>\n",
              "      <th>2</th>\n",
              "      <td>13</td>\n",
              "      <td>853</td>\n",
              "      <td>8</td>\n",
              "      <td>45</td>\n",
              "      <td>0</td>\n",
              "      <td>3</td>\n",
              "      <td>Female</td>\n",
              "      <td>Unemployed</td>\n",
              "      <td>Bachelor</td>\n",
              "      <td>Broadband</td>\n",
              "      <td>2</td>\n",
              "      <td>0</td>\n",
              "      <td>6</td>\n",
              "      <td>10</td>\n",
              "      <td>0</td>\n",
              "      <td>Department of Education</td>\n",
              "    </tr>\n",
              "    <tr>\n",
              "      <th>3</th>\n",
              "      <td>15</td>\n",
              "      <td>503</td>\n",
              "      <td>4</td>\n",
              "      <td>66</td>\n",
              "      <td>0</td>\n",
              "      <td>3</td>\n",
              "      <td>Male</td>\n",
              "      <td>Student</td>\n",
              "      <td>Bachelor</td>\n",
              "      <td>Broadband</td>\n",
              "      <td>1</td>\n",
              "      <td>0</td>\n",
              "      <td>2</td>\n",
              "      <td>1</td>\n",
              "      <td>0</td>\n",
              "      <td>Department of Public Safety</td>\n",
              "    </tr>\n",
              "    <tr>\n",
              "      <th>4</th>\n",
              "      <td>25</td>\n",
              "      <td>857</td>\n",
              "      <td>7</td>\n",
              "      <td>69</td>\n",
              "      <td>0</td>\n",
              "      <td>1</td>\n",
              "      <td>Female</td>\n",
              "      <td>Employed</td>\n",
              "      <td>Some College</td>\n",
              "      <td>Mobile Data</td>\n",
              "      <td>4</td>\n",
              "      <td>0</td>\n",
              "      <td>3</td>\n",
              "      <td>1</td>\n",
              "      <td>0</td>\n",
              "      <td>Department of Education</td>\n",
              "    </tr>\n",
              "  </tbody>\n",
              "</table>\n",
              "</div>\n",
              "    <div class=\"colab-df-buttons\">\n",
              "\n",
              "  <div class=\"colab-df-container\">\n",
              "    <button class=\"colab-df-convert\" onclick=\"convertToInteractive('df-c571e7eb-709c-4a7c-a50d-63fa59b2025b')\"\n",
              "            title=\"Convert this dataframe to an interactive table.\"\n",
              "            style=\"display:none;\">\n",
              "\n",
              "  <svg xmlns=\"http://www.w3.org/2000/svg\" height=\"24px\" viewBox=\"0 -960 960 960\">\n",
              "    <path d=\"M120-120v-720h720v720H120Zm60-500h600v-160H180v160Zm220 220h160v-160H400v160Zm0 220h160v-160H400v160ZM180-400h160v-160H180v160Zm440 0h160v-160H620v160ZM180-180h160v-160H180v160Zm440 0h160v-160H620v160Z\"/>\n",
              "  </svg>\n",
              "    </button>\n",
              "\n",
              "  <style>\n",
              "    .colab-df-container {\n",
              "      display:flex;\n",
              "      gap: 12px;\n",
              "    }\n",
              "\n",
              "    .colab-df-convert {\n",
              "      background-color: #E8F0FE;\n",
              "      border: none;\n",
              "      border-radius: 50%;\n",
              "      cursor: pointer;\n",
              "      display: none;\n",
              "      fill: #1967D2;\n",
              "      height: 32px;\n",
              "      padding: 0 0 0 0;\n",
              "      width: 32px;\n",
              "    }\n",
              "\n",
              "    .colab-df-convert:hover {\n",
              "      background-color: #E2EBFA;\n",
              "      box-shadow: 0px 1px 2px rgba(60, 64, 67, 0.3), 0px 1px 3px 1px rgba(60, 64, 67, 0.15);\n",
              "      fill: #174EA6;\n",
              "    }\n",
              "\n",
              "    .colab-df-buttons div {\n",
              "      margin-bottom: 4px;\n",
              "    }\n",
              "\n",
              "    [theme=dark] .colab-df-convert {\n",
              "      background-color: #3B4455;\n",
              "      fill: #D2E3FC;\n",
              "    }\n",
              "\n",
              "    [theme=dark] .colab-df-convert:hover {\n",
              "      background-color: #434B5C;\n",
              "      box-shadow: 0px 1px 3px 1px rgba(0, 0, 0, 0.15);\n",
              "      filter: drop-shadow(0px 1px 2px rgba(0, 0, 0, 0.3));\n",
              "      fill: #FFFFFF;\n",
              "    }\n",
              "  </style>\n",
              "\n",
              "    <script>\n",
              "      const buttonEl =\n",
              "        document.querySelector('#df-c571e7eb-709c-4a7c-a50d-63fa59b2025b button.colab-df-convert');\n",
              "      buttonEl.style.display =\n",
              "        google.colab.kernel.accessAllowed ? 'block' : 'none';\n",
              "\n",
              "      async function convertToInteractive(key) {\n",
              "        const element = document.querySelector('#df-c571e7eb-709c-4a7c-a50d-63fa59b2025b');\n",
              "        const dataTable =\n",
              "          await google.colab.kernel.invokeFunction('convertToInteractive',\n",
              "                                                    [key], {});\n",
              "        if (!dataTable) return;\n",
              "\n",
              "        const docLinkHtml = 'Like what you see? Visit the ' +\n",
              "          '<a target=\"_blank\" href=https://colab.research.google.com/notebooks/data_table.ipynb>data table notebook</a>'\n",
              "          + ' to learn more about interactive tables.';\n",
              "        element.innerHTML = '';\n",
              "        dataTable['output_type'] = 'display_data';\n",
              "        await google.colab.output.renderOutput(dataTable, element);\n",
              "        const docLink = document.createElement('div');\n",
              "        docLink.innerHTML = docLinkHtml;\n",
              "        element.appendChild(docLink);\n",
              "      }\n",
              "    </script>\n",
              "  </div>\n",
              "\n",
              "\n",
              "<div id=\"df-e4431c38-a5be-4715-8a62-03a5fbd524ad\">\n",
              "  <button class=\"colab-df-quickchart\" onclick=\"quickchart('df-e4431c38-a5be-4715-8a62-03a5fbd524ad')\"\n",
              "            title=\"Suggest charts\"\n",
              "            style=\"display:none;\">\n",
              "\n",
              "<svg xmlns=\"http://www.w3.org/2000/svg\" height=\"24px\"viewBox=\"0 0 24 24\"\n",
              "     width=\"24px\">\n",
              "    <g>\n",
              "        <path d=\"M19 3H5c-1.1 0-2 .9-2 2v14c0 1.1.9 2 2 2h14c1.1 0 2-.9 2-2V5c0-1.1-.9-2-2-2zM9 17H7v-7h2v7zm4 0h-2V7h2v10zm4 0h-2v-4h2v4z\"/>\n",
              "    </g>\n",
              "</svg>\n",
              "  </button>\n",
              "\n",
              "<style>\n",
              "  .colab-df-quickchart {\n",
              "      --bg-color: #E8F0FE;\n",
              "      --fill-color: #1967D2;\n",
              "      --hover-bg-color: #E2EBFA;\n",
              "      --hover-fill-color: #174EA6;\n",
              "      --disabled-fill-color: #AAA;\n",
              "      --disabled-bg-color: #DDD;\n",
              "  }\n",
              "\n",
              "  [theme=dark] .colab-df-quickchart {\n",
              "      --bg-color: #3B4455;\n",
              "      --fill-color: #D2E3FC;\n",
              "      --hover-bg-color: #434B5C;\n",
              "      --hover-fill-color: #FFFFFF;\n",
              "      --disabled-bg-color: #3B4455;\n",
              "      --disabled-fill-color: #666;\n",
              "  }\n",
              "\n",
              "  .colab-df-quickchart {\n",
              "    background-color: var(--bg-color);\n",
              "    border: none;\n",
              "    border-radius: 50%;\n",
              "    cursor: pointer;\n",
              "    display: none;\n",
              "    fill: var(--fill-color);\n",
              "    height: 32px;\n",
              "    padding: 0;\n",
              "    width: 32px;\n",
              "  }\n",
              "\n",
              "  .colab-df-quickchart:hover {\n",
              "    background-color: var(--hover-bg-color);\n",
              "    box-shadow: 0 1px 2px rgba(60, 64, 67, 0.3), 0 1px 3px 1px rgba(60, 64, 67, 0.15);\n",
              "    fill: var(--button-hover-fill-color);\n",
              "  }\n",
              "\n",
              "  .colab-df-quickchart-complete:disabled,\n",
              "  .colab-df-quickchart-complete:disabled:hover {\n",
              "    background-color: var(--disabled-bg-color);\n",
              "    fill: var(--disabled-fill-color);\n",
              "    box-shadow: none;\n",
              "  }\n",
              "\n",
              "  .colab-df-spinner {\n",
              "    border: 2px solid var(--fill-color);\n",
              "    border-color: transparent;\n",
              "    border-bottom-color: var(--fill-color);\n",
              "    animation:\n",
              "      spin 1s steps(1) infinite;\n",
              "  }\n",
              "\n",
              "  @keyframes spin {\n",
              "    0% {\n",
              "      border-color: transparent;\n",
              "      border-bottom-color: var(--fill-color);\n",
              "      border-left-color: var(--fill-color);\n",
              "    }\n",
              "    20% {\n",
              "      border-color: transparent;\n",
              "      border-left-color: var(--fill-color);\n",
              "      border-top-color: var(--fill-color);\n",
              "    }\n",
              "    30% {\n",
              "      border-color: transparent;\n",
              "      border-left-color: var(--fill-color);\n",
              "      border-top-color: var(--fill-color);\n",
              "      border-right-color: var(--fill-color);\n",
              "    }\n",
              "    40% {\n",
              "      border-color: transparent;\n",
              "      border-right-color: var(--fill-color);\n",
              "      border-top-color: var(--fill-color);\n",
              "    }\n",
              "    60% {\n",
              "      border-color: transparent;\n",
              "      border-right-color: var(--fill-color);\n",
              "    }\n",
              "    80% {\n",
              "      border-color: transparent;\n",
              "      border-right-color: var(--fill-color);\n",
              "      border-bottom-color: var(--fill-color);\n",
              "    }\n",
              "    90% {\n",
              "      border-color: transparent;\n",
              "      border-bottom-color: var(--fill-color);\n",
              "    }\n",
              "  }\n",
              "</style>\n",
              "\n",
              "  <script>\n",
              "    async function quickchart(key) {\n",
              "      const quickchartButtonEl =\n",
              "        document.querySelector('#' + key + ' button');\n",
              "      quickchartButtonEl.disabled = true;  // To prevent multiple clicks.\n",
              "      quickchartButtonEl.classList.add('colab-df-spinner');\n",
              "      try {\n",
              "        const charts = await google.colab.kernel.invokeFunction(\n",
              "            'suggestCharts', [key], {});\n",
              "      } catch (error) {\n",
              "        console.error('Error during call to suggestCharts:', error);\n",
              "      }\n",
              "      quickchartButtonEl.classList.remove('colab-df-spinner');\n",
              "      quickchartButtonEl.classList.add('colab-df-quickchart-complete');\n",
              "    }\n",
              "    (() => {\n",
              "      let quickchartButtonEl =\n",
              "        document.querySelector('#df-e4431c38-a5be-4715-8a62-03a5fbd524ad button');\n",
              "      quickchartButtonEl.style.display =\n",
              "        google.colab.kernel.accessAllowed ? 'block' : 'none';\n",
              "    })();\n",
              "  </script>\n",
              "</div>\n",
              "\n",
              "    </div>\n",
              "  </div>\n"
            ],
            "application/vnd.google.colaboratory.intrinsic+json": {
              "type": "dataframe",
              "variable_name": "data",
              "summary": "{\n  \"name\": \"data\",\n  \"rows\": 1000,\n  \"fields\": [\n    {\n      \"column\": \"user_id\",\n      \"properties\": {\n        \"dtype\": \"number\",\n        \"std\": 288,\n        \"min\": 1,\n        \"max\": 1000,\n        \"num_unique_values\": 1000,\n        \"samples\": [\n          381,\n          957,\n          971\n        ],\n        \"semantic_type\": \"\",\n        \"description\": \"\"\n      }\n    },\n    {\n      \"column\": \"TimeTaken\",\n      \"properties\": {\n        \"dtype\": \"number\",\n        \"std\": 344,\n        \"min\": 0,\n        \"max\": 2136,\n        \"num_unique_values\": 699,\n        \"samples\": [\n          1546,\n          917,\n          472\n        ],\n        \"semantic_type\": \"\",\n        \"description\": \"\"\n      }\n    },\n    {\n      \"column\": \"UserSatisfaction\",\n      \"properties\": {\n        \"dtype\": \"number\",\n        \"std\": 2,\n        \"min\": 1,\n        \"max\": 10,\n        \"num_unique_values\": 10,\n        \"samples\": [\n          9,\n          10,\n          5\n        ],\n        \"semantic_type\": \"\",\n        \"description\": \"\"\n      }\n    },\n    {\n      \"column\": \"Age\",\n      \"properties\": {\n        \"dtype\": \"number\",\n        \"std\": 17,\n        \"min\": 18,\n        \"max\": 79,\n        \"num_unique_values\": 62,\n        \"samples\": [\n          28,\n          67,\n          38\n        ],\n        \"semantic_type\": \"\",\n        \"description\": \"\"\n      }\n    },\n    {\n      \"column\": \"DisabilityStatus\",\n      \"properties\": {\n        \"dtype\": \"number\",\n        \"std\": 0,\n        \"min\": 0,\n        \"max\": 1,\n        \"num_unique_values\": 2,\n        \"samples\": [\n          1,\n          0\n        ],\n        \"semantic_type\": \"\",\n        \"description\": \"\"\n      }\n    },\n    {\n      \"column\": \"DigitalLiteracy\",\n      \"properties\": {\n        \"dtype\": \"number\",\n        \"std\": 1,\n        \"min\": 1,\n        \"max\": 5,\n        \"num_unique_values\": 5,\n        \"samples\": [\n          3,\n          2\n        ],\n        \"semantic_type\": \"\",\n        \"description\": \"\"\n      }\n    },\n    {\n      \"column\": \"Gender\",\n      \"properties\": {\n        \"dtype\": \"category\",\n        \"num_unique_values\": 3,\n        \"samples\": [\n          \"Female\",\n          \"Male\"\n        ],\n        \"semantic_type\": \"\",\n        \"description\": \"\"\n      }\n    },\n    {\n      \"column\": \"EmploymentStatus\",\n      \"properties\": {\n        \"dtype\": \"category\",\n        \"num_unique_values\": 4,\n        \"samples\": [\n          \"Employed\",\n          \"Student\"\n        ],\n        \"semantic_type\": \"\",\n        \"description\": \"\"\n      }\n    },\n    {\n      \"column\": \"EducationLevel\",\n      \"properties\": {\n        \"dtype\": \"category\",\n        \"num_unique_values\": 4,\n        \"samples\": [\n          \"High School\",\n          \"Graduate\"\n        ],\n        \"semantic_type\": \"\",\n        \"description\": \"\"\n      }\n    },\n    {\n      \"column\": \"InternetAccess\",\n      \"properties\": {\n        \"dtype\": \"category\",\n        \"num_unique_values\": 3,\n        \"samples\": [\n          \"Broadband\",\n          \"Mobile Data\"\n        ],\n        \"semantic_type\": \"\",\n        \"description\": \"\"\n      }\n    },\n    {\n      \"column\": \"ErrorRates\",\n      \"properties\": {\n        \"dtype\": \"number\",\n        \"std\": 2,\n        \"min\": 0,\n        \"max\": 22,\n        \"num_unique_values\": 15,\n        \"samples\": [\n          18,\n          8\n        ],\n        \"semantic_type\": \"\",\n        \"description\": \"\"\n      }\n    },\n    {\n      \"column\": \"RequestedHelp\",\n      \"properties\": {\n        \"dtype\": \"number\",\n        \"std\": 0,\n        \"min\": 0,\n        \"max\": 1,\n        \"num_unique_values\": 2,\n        \"samples\": [\n          1,\n          0\n        ],\n        \"semantic_type\": \"\",\n        \"description\": \"\"\n      }\n    },\n    {\n      \"column\": \"SatisfactionOtherServices\",\n      \"properties\": {\n        \"dtype\": \"number\",\n        \"std\": 2,\n        \"min\": 1,\n        \"max\": 10,\n        \"num_unique_values\": 10,\n        \"samples\": [\n          4,\n          3\n        ],\n        \"semantic_type\": \"\",\n        \"description\": \"\"\n      }\n    },\n    {\n      \"column\": \"WillingnessFutureUse\",\n      \"properties\": {\n        \"dtype\": \"number\",\n        \"std\": 3,\n        \"min\": 1,\n        \"max\": 10,\n        \"num_unique_values\": 10,\n        \"samples\": [\n          2,\n          8\n        ],\n        \"semantic_type\": \"\",\n        \"description\": \"\"\n      }\n    },\n    {\n      \"column\": \"ReceivesSocialServices\",\n      \"properties\": {\n        \"dtype\": \"number\",\n        \"std\": 0,\n        \"min\": 0,\n        \"max\": 1,\n        \"num_unique_values\": 2,\n        \"samples\": [\n          1,\n          0\n        ],\n        \"semantic_type\": \"\",\n        \"description\": \"\"\n      }\n    },\n    {\n      \"column\": \"Agency\",\n      \"properties\": {\n        \"dtype\": \"category\",\n        \"num_unique_values\": 4,\n        \"samples\": [\n          \"Department of Public Safety\",\n          \"Department of Housing\"\n        ],\n        \"semantic_type\": \"\",\n        \"description\": \"\"\n      }\n    }\n  ]\n}"
            }
          },
          "metadata": {},
          "execution_count": 3
        }
      ]
    },
    {
      "cell_type": "markdown",
      "source": [
        "### Visualize Data"
      ],
      "metadata": {
        "id": "byK4zKOsdnqK"
      }
    },
    {
      "cell_type": "code",
      "source": [
        "# Bar Chart Template\n",
        "\n",
        "data.groupby('categoricalvariable')['continuousvariable'].mean().sort_values().plot(kind='bar', color='skyblue', figsize=(8,6))\n",
        "plt.xlabel(\"categoricalvariable\")\n",
        "plt.ylabel(\"Continuous Variable \")\n",
        "plt.title(\"Title of Bar Chart\")\n",
        "# Rotation of x-axis labels\n",
        "plt.xticks(rotation=45)\n",
        "plt.show()"
      ],
      "metadata": {
        "id": "tBxMv-1ydlwh"
      },
      "execution_count": null,
      "outputs": []
    },
    {
      "cell_type": "code",
      "source": [
        "# Bar Chart\n",
        "\n",
        "data.groupby('Gender')['UserSatisfaction'].mean().sort_values().plot(kind='bar', color='skyblue', figsize=(8,6))\n",
        "plt.xlabel(\"Gender\")\n",
        "plt.ylabel(\"UserSatisfaction\")\n",
        "plt.title(\"User Satisfaction by Gender\")\n",
        "plt.xticks(rotation=45)\n",
        "plt.show()"
      ],
      "metadata": {
        "colab": {
          "base_uri": "https://localhost:8080/",
          "height": 614
        },
        "id": "mjbS2tJw9p7g",
        "outputId": "5bff900f-29c8-46b4-b305-2a3a2b4e77e2"
      },
      "execution_count": null,
      "outputs": [
        {
          "output_type": "display_data",
          "data": {
            "text/plain": [
              "<Figure size 800x600 with 1 Axes>"
            ],
            "image/png": "[encoded data removed]"
          },
          "metadata": {}
        }
      ]
    },
    {
      "cell_type": "code",
      "source": [
        "data.groupby('DisabilityStatus')['WillingnessFutureUse'].mean().sort_values().plot(kind='bar', color='skyblue', figsize=(8,6))\n",
        "plt.xlabel(\"DisabilityStatus\")\n",
        "plt.ylabel(\"WillingnessFutureUse\")\n",
        "plt.title(\"Willingness of Future Use by Disability Status\")\n",
        "# Rotation of x-axis labels\n",
        "plt.xticks(rotation=45)\n",
        "plt.show()"
      ],
      "metadata": {
        "colab": {
          "base_uri": "https://localhost:8080/",
          "height": 566
        },
        "id": "SHXRhi0y_GTv",
        "outputId": "eb561968-726d-4473-a8d5-91ef4a47a243"
      },
      "execution_count": null,
      "outputs": [
        {
          "output_type": "display_data",
          "data": {
            "text/plain": [
              "<Figure size 800x600 with 1 Axes>"
            ],
            "image/png": "[encoded data removed]"
          },
          "metadata": {}
        }
      ]
    },
    {
      "cell_type": "code",
      "source": [
        "# Pie Chart Template\n",
        "categorical_counts = data['categoricalvariable'].value_counts()\n",
        "categorical_counts.plot(kind='pie', autopct='%1.1f%%', colors=[\"lightblue\", \"lightgreen\", \"coral\"], figsize=(6,6))\n",
        "plt.title(\"Distribution of Categorical Variable\")\n",
        "plt.ylabel(\"\")\n",
        "plt.show()"
      ],
      "metadata": {
        "id": "dS5JcWV49trv"
      },
      "execution_count": null,
      "outputs": []
    },
    {
      "cell_type": "code",
      "source": [
        "# Pie Chart\n",
        "# Generate a variable to store the data of a count of each categorical var\n",
        "categorical_counts = data['Gender'].value_counts()\n",
        "categorical_counts.plot(kind='pie', autopct='%1.1f%%', colors=[\"lightblue\", \"lightgreen\", \"coral\"], figsize=(6,6))\n",
        "plt.title(\"Distribution of Gender\")\n",
        "plt.ylabel(\"\")\n",
        "plt.show()"
      ],
      "metadata": {
        "id": "IBA6IFF0d2Kc",
        "colab": {
          "base_uri": "https://localhost:8080/",
          "height": 521
        },
        "outputId": "9373a40e-6a71-4065-e5b8-8d0c4aed429a"
      },
      "execution_count": null,
      "outputs": [
        {
          "output_type": "display_data",
          "data": {
            "text/plain": [
              "<Figure size 600x600 with 1 Axes>"
            ],
            "image/png": "[encoded data removed]"
          },
          "metadata": {}
        }
      ]
    },
    {
      "cell_type": "code",
      "source": [
        "# Box plot Template\n",
        "\n",
        "sns.boxplot(x=data['categoricalvariable'], y=data['continuousvariable'])\n",
        "plt.title(\"Title of Box Plot\")\n",
        "plt.show()"
      ],
      "metadata": {
        "id": "T6UwoPmK9yBq"
      },
      "execution_count": null,
      "outputs": []
    },
    {
      "cell_type": "code",
      "source": [
        "# Box plot\n",
        "\n",
        "sns.boxplot(x=data['Agency'], y=data['TimeTaken'])\n",
        "plt.title(\"Time Taken by Agency\")\n",
        "plt.xticks(rotation=45)\n",
        "plt.show()"
      ],
      "metadata": {
        "id": "Gpcd7lTfd3i5",
        "colab": {
          "base_uri": "https://localhost:8080/",
          "height": 680
        },
        "outputId": "d8c44050-8185-4620-8aca-297666a8e80f"
      },
      "execution_count": null,
      "outputs": [
        {
          "output_type": "display_data",
          "data": {
            "text/plain": [
              "<Figure size 640x480 with 1 Axes>"
            ],
            "image/png": "[encoded data removed]"
          },
          "metadata": {}
        }
      ]
    },
    {
      "cell_type": "markdown",
      "source": [
        "## Calculating Descriptive Statistics"
      ],
      "metadata": {
        "id": "qSYi-ZEfd6am"
      }
    },
    {
      "cell_type": "code",
      "source": [
        "# Descriptive Statistics\n",
        "print(\"Descriptive Statistics for Numeric Variables:\")\n",
        "print(data.describe())"
      ],
      "metadata": {
        "id": "NqiQUaTud8Mw",
        "colab": {
          "base_uri": "https://localhost:8080/"
        },
        "outputId": "ad15bbd5-0522-40e1-b025-c638a28e371e"
      },
      "execution_count": null,
      "outputs": [
        {
          "output_type": "stream",
          "name": "stdout",
          "text": [
            "Descriptive Statistics for Numeric Variables:\n",
            "           user_id    TimeTaken  UserSatisfaction          Age  \\\n",
            "count  1000.000000  1000.000000       1000.000000  1000.000000   \n",
            "mean    500.500000  1059.025000          4.946000    49.039000   \n",
            "std     288.819436   344.668741          2.901293    17.891998   \n",
            "min       1.000000     0.000000          1.000000    18.000000   \n",
            "25%     250.750000   830.500000          2.000000    34.000000   \n",
            "50%     500.500000  1064.000000          5.000000    50.000000   \n",
            "75%     750.250000  1274.000000          7.000000    64.000000   \n",
            "max    1000.000000  2136.000000         10.000000    79.000000   \n",
            "\n",
            "       DisabilityStatus  DigitalLiteracy   ErrorRates  RequestedHelp  \\\n",
            "count       1000.000000      1000.000000  1000.000000    1000.000000   \n",
            "mean           0.153000         3.053000     2.387000       0.287000   \n",
            "std            0.360168         1.397907     2.384726       0.452588   \n",
            "min            0.000000         1.000000     0.000000       0.000000   \n",
            "25%            0.000000         2.000000     1.000000       0.000000   \n",
            "50%            0.000000         3.000000     2.000000       0.000000   \n",
            "75%            0.000000         4.000000     4.000000       1.000000   \n",
            "max            1.000000         5.000000    22.000000       1.000000   \n",
            "\n",
            "       SatisfactionOtherServices  WillingnessFutureUse  ReceivesSocialServices  \n",
            "count                1000.000000           1000.000000             1000.000000  \n",
            "mean                    5.606000              5.765000                0.616000  \n",
            "std                     2.873852              3.050095                0.486601  \n",
            "min                     1.000000              1.000000                0.000000  \n",
            "25%                     3.000000              3.000000                0.000000  \n",
            "50%                     6.000000              6.000000                1.000000  \n",
            "75%                     8.000000              8.000000                1.000000  \n",
            "max                    10.000000             10.000000                1.000000  \n"
          ]
        }
      ]
    },
    {
      "cell_type": "code",
      "source": [
        "# Descriptive Statistics\n",
        "numeric_cols = data.select_dtypes(include=['number']).columns\n",
        "descriptive_stats = data.describe().round(2)\n",
        "print(\"Descriptive Statistics for Numeric Variables:\")\n",
        "print(descriptive_stats)"
      ],
      "metadata": {
        "colab": {
          "base_uri": "https://localhost:8080/"
        },
        "id": "TDAfnW7mCEYF",
        "outputId": "6361b818-6af1-4845-df00-63e73c9bdf86"
      },
      "execution_count": null,
      "outputs": [
        {
          "output_type": "stream",
          "name": "stdout",
          "text": [
            "Descriptive Statistics for Numeric Variables:\n",
            "       user_id  TimeTaken  UserSatisfaction      Age  DisabilityStatus  \\\n",
            "count  1000.00    1000.00           1000.00  1000.00           1000.00   \n",
            "mean    500.50    1059.03              4.95    49.04              0.15   \n",
            "std     288.82     344.67              2.90    17.89              0.36   \n",
            "min       1.00       0.00              1.00    18.00              0.00   \n",
            "25%     250.75     830.50              2.00    34.00              0.00   \n",
            "50%     500.50    1064.00              5.00    50.00              0.00   \n",
            "75%     750.25    1274.00              7.00    64.00              0.00   \n",
            "max    1000.00    2136.00             10.00    79.00              1.00   \n",
            "\n",
            "       DigitalLiteracy  ErrorRates  RequestedHelp  SatisfactionOtherServices  \\\n",
            "count          1000.00     1000.00        1000.00                    1000.00   \n",
            "mean              3.05        2.39           0.29                       5.61   \n",
            "std               1.40        2.38           0.45                       2.87   \n",
            "min               1.00        0.00           0.00                       1.00   \n",
            "25%               2.00        1.00           0.00                       3.00   \n",
            "50%               3.00        2.00           0.00                       6.00   \n",
            "75%               4.00        4.00           1.00                       8.00   \n",
            "max               5.00       22.00           1.00                      10.00   \n",
            "\n",
            "       WillingnessFutureUse  ReceivesSocialServices  \n",
            "count               1000.00                 1000.00  \n",
            "mean                   5.76                    0.62  \n",
            "std                    3.05                    0.49  \n",
            "min                    1.00                    0.00  \n",
            "25%                    3.00                    0.00  \n",
            "50%                    6.00                    1.00  \n",
            "75%                    8.00                    1.00  \n",
            "max                   10.00                    1.00  \n"
          ]
        }
      ]
    },
    {
      "cell_type": "code",
      "source": [
        "# Frequency Distributions for Categorical Variables\n",
        "\n",
        "print(\"\\nFrequency Distribution for Categorical Variables:\")\n",
        "# Make an object of categorical columns by including columns of OBJECT data type\n",
        "categorical_cols = data.select_dtypes(include=['object']).columns\n",
        "# For each column in the new object, do the following:\n",
        "for col in categorical_cols:\n",
        "    print(f\"\\n{col}:\")\n",
        "    print(data[col].value_counts())"
      ],
      "metadata": {
        "id": "fRTxrxuNd_qY",
        "colab": {
          "base_uri": "https://localhost:8080/"
        },
        "outputId": "718e2da9-c60d-4a44-a196-3f6b098ee5c4"
      },
      "execution_count": null,
      "outputs": [
        {
          "output_type": "stream",
          "name": "stdout",
          "text": [
            "\n",
            "Frequency Distribution for Categorical Variables:\n",
            "\n",
            "Gender:\n",
            "Gender\n",
            "Male          492\n",
            "Female        480\n",
            "Non-binary     28\n",
            "Name: count, dtype: int64\n",
            "\n",
            "EmploymentStatus:\n",
            "EmploymentStatus\n",
            "Employed      603\n",
            "Unemployed    160\n",
            "Retired       133\n",
            "Student       104\n",
            "Name: count, dtype: int64\n",
            "\n",
            "EducationLevel:\n",
            "EducationLevel\n",
            "Some College    297\n",
            "High School     297\n",
            "Bachelor        261\n",
            "Graduate        145\n",
            "Name: count, dtype: int64\n",
            "\n",
            "InternetAccess:\n",
            "InternetAccess\n",
            "Broadband      671\n",
            "Mobile Data    275\n",
            "No Internet     54\n",
            "Name: count, dtype: int64\n",
            "\n",
            "Agency:\n",
            "Agency\n",
            "Department of Public Safety                274\n",
            "Department of Education                    250\n",
            "Department of Housing                      246\n",
            "Department of Health and Human Services    230\n",
            "Name: count, dtype: int64\n"
          ]
        }
      ]
    },
    {
      "cell_type": "code",
      "source": [
        "# Calculate the mean of a continuous variable\n",
        "time_taken = 'TimeTaken'  # Change variable name as needed\n",
        "mean_value_timetaken = data[time_taken].mean().round(2)\n",
        "print(f\"\\nMean of {time_taken}: {mean_value_timetaken}\")"
      ],
      "metadata": {
        "id": "4a_W-rdIe_0D",
        "colab": {
          "base_uri": "https://localhost:8080/"
        },
        "outputId": "ff50f100-7b5c-40b1-cbf9-1f4f75e58f2d"
      },
      "execution_count": null,
      "outputs": [
        {
          "output_type": "stream",
          "name": "stdout",
          "text": [
            "\n",
            "Mean of TimeTaken: 1059.03\n"
          ]
        }
      ]
    },
    {
      "cell_type": "code",
      "source": [
        "# Calculate the means of continuous variables across groups\n",
        "EmpStatus = 'EmploymentStatus'  # Change to appropriate categorical variable\n",
        "grouped_means = data.groupby(EmpStatus)[numeric_cols].mean().round(2)\n",
        "print(f\"\\nMean values of continuous variables grouped by {EmpStatus}:\")\n",
        "print(grouped_means)"
      ],
      "metadata": {
        "id": "evBSKk1IfEJz",
        "colab": {
          "base_uri": "https://localhost:8080/"
        },
        "outputId": "ace9c9dc-fd77-452d-e951-c7bc80fba4ec"
      },
      "execution_count": null,
      "outputs": [
        {
          "output_type": "stream",
          "name": "stdout",
          "text": [
            "\n",
            "Mean values of continuous variables grouped by EmploymentStatus:\n",
            "                  user_id  TimeTaken  UserSatisfaction    Age  \\\n",
            "EmploymentStatus                                                \n",
            "Employed           493.88    1078.29              4.86  49.10   \n",
            "Retired            475.49    1067.10              4.87  51.26   \n",
            "Student            521.65     970.91              5.26  46.97   \n",
            "Unemployed         532.50    1036.97              5.13  48.32   \n",
            "\n",
            "                  DisabilityStatus  DigitalLiteracy  ErrorRates  \\\n",
            "EmploymentStatus                                                  \n",
            "Employed                      0.14             3.03        2.39   \n",
            "Retired                       0.16             2.95        2.40   \n",
            "Student                       0.15             3.12        2.22   \n",
            "Unemployed                    0.19             3.19        2.47   \n",
            "\n",
            "                  RequestedHelp  SatisfactionOtherServices  \\\n",
            "EmploymentStatus                                             \n",
            "Employed                   0.28                       5.61   \n",
            "Retired                    0.33                       5.73   \n",
            "Student                    0.26                       6.06   \n",
            "Unemployed                 0.30                       5.19   \n",
            "\n",
            "                  WillingnessFutureUse  ReceivesSocialServices  \n",
            "EmploymentStatus                                                \n",
            "Employed                          5.74                    0.60  \n",
            "Retired                           5.80                    0.65  \n",
            "Student                           5.80                    0.57  \n",
            "Unemployed                        5.79                    0.68  \n"
          ]
        }
      ]
    },
    {
      "cell_type": "markdown",
      "source": [
        "## Hypothesis Testing"
      ],
      "metadata": {
        "id": "_YcSNcwufPlc"
      }
    },
    {
      "cell_type": "code",
      "source": [
        "import statsmodels.api as sm\n",
        "import statsmodels.formula.api as smf\n",
        "from statsmodels.stats.multicomp import pairwise_tukeyhsd"
      ],
      "metadata": {
        "id": "WdH0ZlH0fRfb"
      },
      "execution_count": null,
      "outputs": []
    },
    {
      "cell_type": "markdown",
      "source": [
        "#### T-Tests - Comparing Means Across Two Groups"
      ],
      "metadata": {
        "id": "xTCW86EnfU1h"
      }
    },
    {
      "cell_type": "code",
      "source": [
        "# Calculate the mean of a specific continuous variable across one categorical variable\n",
        "# T-Test describes the statistical significance of the difference in the mean within a dummy variable\n",
        "outcome_variable = 'SatisfactionOtherServices'  # Change to the variable of interest\n",
        "categorical_variable = 'ReceivesSocialServices'  # Change to the desired categorical variable\n",
        "\n",
        "specific_grouped_means = data.groupby(categorical_variable)[outcome_variable].mean().round(2)\n",
        "\n",
        "print(f\"\\nMean of {outcome_variable} grouped by {categorical_variable}:\")\n",
        "print(specific_grouped_means)"
      ],
      "metadata": {
        "id": "uQ8MSQotfTPZ"
      },
      "execution_count": null,
      "outputs": []
    },
    {
      "cell_type": "code",
      "source": [
        "# T-Test: Comparing means across two groups\n",
        "\n",
        "t_stat, p_val = stats.ttest_ind(\n",
        "    data[data['DisabilityStatus'] == 1]['DigitalLiteracy'],\n",
        "    data[data['DisabilityStatus'] == 0]['DigitalLiteracy']\n",
        ")\n",
        "print(f\"T-test: Effect of Disability on Time Taken (in Seconds), t-statistic={t_stat:.4f}, p-value={p_val:.4f}\")\n"
      ],
      "metadata": {
        "id": "tm7VXDkIfgMD",
        "colab": {
          "base_uri": "https://localhost:8080/"
        },
        "outputId": "882c5d76-3a53-4b07-c90e-d0619267624a"
      },
      "execution_count": null,
      "outputs": [
        {
          "output_type": "stream",
          "name": "stdout",
          "text": [
            "T-test: Effect of Disability on Time Taken (in Seconds), t-statistic=-1.0752, p-value=0.2825\n"
          ]
        }
      ]
    },
    {
      "cell_type": "markdown",
      "source": [
        "#### ANOVA - Comparing Means Across Three or More Groups"
      ],
      "metadata": {
        "id": "3n3Yx_jcf7_G"
      }
    },
    {
      "cell_type": "code",
      "source": [
        "# Means across more than two groups\n",
        "\n",
        "outcome_variable = 'TimeTaken'  # Change to the variable of interest\n",
        "categorical_variable = 'Agency'  # Change to the desired categorical variable\n",
        "\n",
        "specific_grouped_means = data.groupby(categorical_variable)[outcome_variable].mean().round(2)\n",
        "print(f\"\\nMean of {outcome_variable} grouped by {categorical_variable}:\")\n",
        "print(specific_grouped_means)"
      ],
      "metadata": {
        "id": "-mAJBzi6f8sq",
        "colab": {
          "base_uri": "https://localhost:8080/"
        },
        "outputId": "ed970066-b3a9-48d7-b4ba-f26fcb2c32cd"
      },
      "execution_count": null,
      "outputs": [
        {
          "output_type": "stream",
          "name": "stdout",
          "text": [
            "\n",
            "Mean of TimeTaken grouped by Agency:\n",
            "Agency\n",
            "Department of Education                     902.80\n",
            "Department of Health and Human Services    1183.80\n",
            "Department of Housing                      1033.89\n",
            "Department of Public Safety                1119.40\n",
            "Name: TimeTaken, dtype: float64\n"
          ]
        }
      ]
    },
    {
      "cell_type": "code",
      "source": [
        "# ANOVA: Comparing time taken across agency types\n",
        "\n",
        "aov = smf.ols(f'{outcome_variable} ~ C({categorical_variable})', data=data).fit()\n",
        "anova_table = sm.stats.anova_lm(aov, typ=2)\n",
        "\n",
        "print(\"\\nANOVA Results:\")\n",
        "print(anova_table)"
      ],
      "metadata": {
        "id": "ilA7Q7P4gGL8",
        "colab": {
          "base_uri": "https://localhost:8080/"
        },
        "outputId": "2341cdf1-3392-4c5d-ad55-f7afc368dc89"
      },
      "execution_count": null,
      "outputs": [
        {
          "output_type": "stream",
          "name": "stdout",
          "text": [
            "\n",
            "ANOVA Results:\n",
            "                 sum_sq     df          F        PR(>F)\n",
            "C(Agency)  1.083668e+07    3.0  33.361848  1.501558e-20\n",
            "Residual   1.078411e+08  996.0        NaN           NaN\n"
          ]
        }
      ]
    },
    {
      "cell_type": "code",
      "source": [
        "# Conduct post hoc test (Tukey HSD) if ANOVA is significant\n",
        "alpha = 0.05\n",
        "if anova_table['PR(>F)'][0] < alpha:\n",
        "    print(\"\\nANOVA is significant. Conducting post hoc Tukey HSD test:\")\n",
        "    tukey_results = pairwise_tukeyhsd(endog=data[outcome_variable], groups=data[categorical_variable], alpha=alpha)\n",
        "    print(tukey_results)\n",
        "else:\n",
        "    print(\"\\nANOVA is not significant. No post hoc test needed.\")\n"
      ],
      "metadata": {
        "id": "7fYyp7upgIsS",
        "colab": {
          "base_uri": "https://localhost:8080/"
        },
        "outputId": "3739002e-1e72-4608-bebb-18f0e8c2372c"
      },
      "execution_count": null,
      "outputs": [
        {
          "output_type": "stream",
          "name": "stderr",
          "text": [
            "<ipython-input-34-99da7c575cf6>:3: FutureWarning: Series.__getitem__ treating keys as positions is deprecated. In a future version, integer keys will always be treated as labels (consistent with DataFrame behavior). To access a value by position, use `ser.iloc[pos]`\n",
            "  if anova_table['PR(>F)'][0] < alpha:\n"
          ]
        },
        {
          "output_type": "stream",
          "name": "stdout",
          "text": [
            "\n",
            "ANOVA is significant. Conducting post hoc Tukey HSD test:\n",
            "                                   Multiple Comparison of Means - Tukey HSD, FWER=0.05                                    \n",
            "==========================================================================================================================\n",
            "                 group1                                  group2                  meandiff p-adj    lower    upper   reject\n",
            "--------------------------------------------------------------------------------------------------------------------------\n",
            "                Department of Education Department of Health and Human Services  280.9997    0.0  203.6333  358.366   True\n",
            "                Department of Education                   Department of Housing  131.0942 0.0001   55.0496 207.1389   True\n",
            "                Department of Education             Department of Public Safety  216.6055    0.0  142.5451 290.6658   True\n",
            "Department of Health and Human Services                   Department of Housing -149.9054    0.0 -227.5725 -72.2383   True\n",
            "Department of Health and Human Services             Department of Public Safety  -64.3942 0.1271 -140.1195  11.3312  False\n",
            "                  Department of Housing             Department of Public Safety   85.5112 0.0167   11.1367 159.8857   True\n",
            "--------------------------------------------------------------------------------------------------------------------------\n"
          ]
        }
      ]
    },
    {
      "cell_type": "markdown",
      "source": [
        "## Regression Analysis"
      ],
      "metadata": {
        "id": "2an1v5y-gLSt"
      }
    },
    {
      "cell_type": "code",
      "source": [
        "import matplotlib.pyplot as plt\n",
        "import seaborn as sns"
      ],
      "metadata": {
        "id": "cYdyjckmgM1G"
      },
      "execution_count": null,
      "outputs": []
    },
    {
      "cell_type": "code",
      "source": [
        "# Simple Linear Regression: Predicting outcome with one predictor\n",
        "X = data[['DigitalLiteracy']]\n",
        "y = data['ErrorRates']\n",
        "X = sm.add_constant(X)  # Adds an intercept term\n",
        "model = sm.OLS(y, X).fit()"
      ],
      "metadata": {
        "id": "lCT5wve_gOa7"
      },
      "execution_count": 17,
      "outputs": []
    },
    {
      "cell_type": "code",
      "source": [
        "# Display Regression Results in a Nice Table\n",
        "print(\"\\nSimple Linear Regression Results:\")\n",
        "print(model.summary())"
      ],
      "metadata": {
        "id": "_JYYdHOggXD0",
        "colab": {
          "base_uri": "https://localhost:8080/"
        },
        "outputId": "7541dc4a-e0e4-4e66-80e4-64e7701b775a"
      },
      "execution_count": 18,
      "outputs": [
        {
          "output_type": "stream",
          "name": "stdout",
          "text": [
            "\n",
            "Simple Linear Regression Results:\n",
            "                            OLS Regression Results                            \n",
            "==============================================================================\n",
            "Dep. Variable:             ErrorRates   R-squared:                       0.335\n",
            "Model:                            OLS   Adj. R-squared:                  0.334\n",
            "Method:                 Least Squares   F-statistic:                     501.9\n",
            "Date:                Thu, 27 Feb 2025   Prob (F-statistic):           2.21e-90\n",
            "Time:                        19:17:48   Log-Likelihood:                -2083.8\n",
            "No. Observations:                1000   AIC:                             4172.\n",
            "Df Residuals:                     998   BIC:                             4181.\n",
            "Df Model:                           1                                         \n",
            "Covariance Type:            nonrobust                                         \n",
            "===================================================================================\n",
            "                      coef    std err          t      P>|t|      [0.025      0.975]\n",
            "-----------------------------------------------------------------------------------\n",
            "const               5.3998      0.148     36.512      0.000       5.110       5.690\n",
            "DigitalLiteracy    -0.9868      0.044    -22.404      0.000      -1.073      -0.900\n",
            "==============================================================================\n",
            "Omnibus:                      764.169   Durbin-Watson:                   1.578\n",
            "Prob(Omnibus):                  0.000   Jarque-Bera (JB):            23068.500\n",
            "Skew:                           3.191   Prob(JB):                         0.00\n",
            "Kurtosis:                      25.647   Cond. No.                         8.67\n",
            "==============================================================================\n",
            "\n",
            "Notes:\n",
            "[1] Standard Errors assume that the covariance matrix of the errors is correctly specified.\n"
          ]
        }
      ]
    },
    {
      "cell_type": "code",
      "source": [
        "# Visualizing Regression Results\n",
        "plt.figure(figsize=(8,6))\n",
        "sns.regplot(x=data['DigitalLiteracy'], y=data['ErrorRates'], scatter_kws={'alpha':0.5}, line_kws={'color':'red'})\n",
        "plt.xlabel(\"Digital Literacy Score\")\n",
        "plt.ylabel(\"Error Rate\")\n",
        "plt.title(\"Regression of Effect of Digital Literacy on Error Rates\")\n",
        "plt.show()"
      ],
      "metadata": {
        "id": "q89yvdgEgYnZ",
        "colab": {
          "base_uri": "https://localhost:8080/",
          "height": 564
        },
        "outputId": "28c948ba-ebfa-4464-d257-60aaca7d01b0"
      },
      "execution_count": 20,
      "outputs": [
        {
          "output_type": "display_data",
          "data": {
            "text/plain": [
              "<Figure size 800x600 with 1 Axes>"
            ],
            "image/png": "[encoded data removed]"
          },
          "metadata": {}
        }
      ]
    },
    {
      "cell_type": "markdown",
      "source": [
        "#### Multiple Regression"
      ],
      "metadata": {
        "id": "CIUk0QlPgiNG"
      }
    },
    {
      "cell_type": "code",
      "source": [
        "# Multiple Linear Regression: Predicting outcome using multiple predictors\n",
        "X = data[['DigitalLiteracy','TimeTaken']]\n",
        "y = data['ErrorRates']\n",
        "X = sm.add_constant(X)  # Adds an intercept term\n",
        "model = sm.OLS(y, X).fit()"
      ],
      "metadata": {
        "id": "5A64Jn1mgj6z"
      },
      "execution_count": 21,
      "outputs": []
    },
    {
      "cell_type": "code",
      "source": [
        "# Display Regression Results in a Nice Table\n",
        "print(\"\\nMultiple Linear Regression Results:\")\n",
        "print(model.summary())"
      ],
      "metadata": {
        "id": "gXpwwg5ogsGN",
        "colab": {
          "base_uri": "https://localhost:8080/"
        },
        "outputId": "34e898a1-7d8f-4adb-eed4-258823348af5"
      },
      "execution_count": 22,
      "outputs": [
        {
          "output_type": "stream",
          "name": "stdout",
          "text": [
            "\n",
            "Multiple Linear Regression Results:\n",
            "                            OLS Regression Results                            \n",
            "==============================================================================\n",
            "Dep. Variable:             ErrorRates   R-squared:                       0.337\n",
            "Model:                            OLS   Adj. R-squared:                  0.335\n",
            "Method:                 Least Squares   F-statistic:                     253.0\n",
            "Date:                Thu, 27 Feb 2025   Prob (F-statistic):           1.36e-89\n",
            "Time:                        19:21:00   Log-Likelihood:                -2082.3\n",
            "No. Observations:                1000   AIC:                             4171.\n",
            "Df Residuals:                     997   BIC:                             4185.\n",
            "Df Model:                           2                                         \n",
            "Covariance Type:            nonrobust                                         \n",
            "===================================================================================\n",
            "                      coef    std err          t      P>|t|      [0.025      0.975]\n",
            "-----------------------------------------------------------------------------------\n",
            "const               5.0002      0.273     18.349      0.000       4.465       5.535\n",
            "DigitalLiteracy    -0.9674      0.045    -21.312      0.000      -1.056      -0.878\n",
            "TimeTaken           0.0003      0.000      1.745      0.081   -3.99e-05       0.001\n",
            "==============================================================================\n",
            "Omnibus:                      761.365   Durbin-Watson:                   1.576\n",
            "Prob(Omnibus):                  0.000   Jarque-Bera (JB):            22829.386\n",
            "Skew:                           3.176   Prob(JB):                         0.00\n",
            "Kurtosis:                      25.529   Cond. No.                     4.97e+03\n",
            "==============================================================================\n",
            "\n",
            "Notes:\n",
            "[1] Standard Errors assume that the covariance matrix of the errors is correctly specified.\n",
            "[2] The condition number is large, 4.97e+03. This might indicate that there are\n",
            "strong multicollinearity or other numerical problems.\n"
          ]
        }
      ]
    },
    {
      "cell_type": "code",
      "source": [],
      "metadata": {
        "id": "4T68-evC2ulf"
      },
      "execution_count": null,
      "outputs": []
    }
  ]
}